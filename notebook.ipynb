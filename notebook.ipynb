{
 "cells": [
  {
   "cell_type": "code",
   "execution_count": null,
   "metadata": {},
   "outputs": [],
   "source": [
    "import numpy as np\n",
    "import pandas as pd\n",
    "import math \n",
    "import itertools\n",
    "\n",
    "# Modelling Helpers :\n",
    "from sklearn.preprocessing import Normalizer , scale\n",
    "from sklearn.impute import SimpleImputer\n",
    "\n",
    "from sklearn.model_selection import train_test_split\n",
    "from sklearn.metrics import confusion_matrix\n",
    "from sklearn.feature_selection import RFECV\n",
    "from sklearn.model_selection import GridSearchCV , KFold , cross_val_score\n",
    "\n",
    "\n",
    "\n",
    "# Evaluation metrics :\n",
    "\n",
    "# Regression\n",
    "from sklearn.metrics import mean_squared_log_error,mean_squared_error, r2_score,mean_absolute_error \n",
    "\n",
    "# Classification\n",
    "from sklearn.metrics import accuracy_score,precision_score,recall_score,f1_score"
   ]
  },
  {
   "cell_type": "code",
   "execution_count": null,
   "metadata": {},
   "outputs": [],
   "source": [
    "movies = pd.read_csv('./input/movies.csv')\n",
    "ratings = pd.read_csv('./input/ratings.csv')\n",
    "tags = pd.read_csv('./input/tags.csv')\n",
    "links = pd.read_csv('./input/links.csv')\n",
    "df_r = ratings.copy()\n",
    "df_m = movies.copy()"
   ]
  },
  {
   "cell_type": "code",
   "execution_count": null,
   "metadata": {},
   "outputs": [
    {
     "data": {
      "text/html": [
       "<div>\n",
       "<style scoped>\n",
       "    .dataframe tbody tr th:only-of-type {\n",
       "        vertical-align: middle;\n",
       "    }\n",
       "\n",
       "    .dataframe tbody tr th {\n",
       "        vertical-align: top;\n",
       "    }\n",
       "\n",
       "    .dataframe thead th {\n",
       "        text-align: right;\n",
       "    }\n",
       "</style>\n",
       "<table border=\"1\" class=\"dataframe\">\n",
       "  <thead>\n",
       "    <tr style=\"text-align: right;\">\n",
       "      <th></th>\n",
       "      <th>userId</th>\n",
       "      <th>movieId</th>\n",
       "      <th>rating</th>\n",
       "      <th>timestamp</th>\n",
       "    </tr>\n",
       "  </thead>\n",
       "  <tbody>\n",
       "    <tr>\n",
       "      <th>0</th>\n",
       "      <td>1</td>\n",
       "      <td>296</td>\n",
       "      <td>5.0</td>\n",
       "      <td>1147880044</td>\n",
       "    </tr>\n",
       "    <tr>\n",
       "      <th>1</th>\n",
       "      <td>1</td>\n",
       "      <td>306</td>\n",
       "      <td>3.5</td>\n",
       "      <td>1147868817</td>\n",
       "    </tr>\n",
       "    <tr>\n",
       "      <th>2</th>\n",
       "      <td>1</td>\n",
       "      <td>307</td>\n",
       "      <td>5.0</td>\n",
       "      <td>1147868828</td>\n",
       "    </tr>\n",
       "    <tr>\n",
       "      <th>3</th>\n",
       "      <td>1</td>\n",
       "      <td>665</td>\n",
       "      <td>5.0</td>\n",
       "      <td>1147878820</td>\n",
       "    </tr>\n",
       "    <tr>\n",
       "      <th>4</th>\n",
       "      <td>1</td>\n",
       "      <td>899</td>\n",
       "      <td>3.5</td>\n",
       "      <td>1147868510</td>\n",
       "    </tr>\n",
       "  </tbody>\n",
       "</table>\n",
       "</div>"
      ],
      "text/plain": [
       "   userId  movieId  rating   timestamp\n",
       "0       1      296     5.0  1147880044\n",
       "1       1      306     3.5  1147868817\n",
       "2       1      307     5.0  1147868828\n",
       "3       1      665     5.0  1147878820\n",
       "4       1      899     3.5  1147868510"
      ]
     },
     "execution_count": 4,
     "metadata": {},
     "output_type": "execute_result"
    }
   ],
   "source": [
    "ratings.head()"
   ]
  },
  {
   "cell_type": "code",
   "execution_count": null,
   "metadata": {},
   "outputs": [
    {
     "data": {
      "text/plain": [
       "(25000095, 4)"
      ]
     },
     "execution_count": 5,
     "metadata": {},
     "output_type": "execute_result"
    }
   ],
   "source": [
    "ratings.shape"
   ]
  },
  {
   "cell_type": "code",
   "execution_count": null,
   "metadata": {},
   "outputs": [
    {
     "data": {
      "text/html": [
       "<div>\n",
       "<style scoped>\n",
       "    .dataframe tbody tr th:only-of-type {\n",
       "        vertical-align: middle;\n",
       "    }\n",
       "\n",
       "    .dataframe tbody tr th {\n",
       "        vertical-align: top;\n",
       "    }\n",
       "\n",
       "    .dataframe thead th {\n",
       "        text-align: right;\n",
       "    }\n",
       "</style>\n",
       "<table border=\"1\" class=\"dataframe\">\n",
       "  <thead>\n",
       "    <tr style=\"text-align: right;\">\n",
       "      <th></th>\n",
       "      <th>userId</th>\n",
       "      <th>movieId</th>\n",
       "      <th>rating</th>\n",
       "      <th>timestamp</th>\n",
       "    </tr>\n",
       "  </thead>\n",
       "  <tbody>\n",
       "    <tr>\n",
       "      <th>count</th>\n",
       "      <td>2.500010e+07</td>\n",
       "      <td>2.500010e+07</td>\n",
       "      <td>2.500010e+07</td>\n",
       "      <td>2.500010e+07</td>\n",
       "    </tr>\n",
       "    <tr>\n",
       "      <th>mean</th>\n",
       "      <td>8.118928e+04</td>\n",
       "      <td>2.138798e+04</td>\n",
       "      <td>3.533854e+00</td>\n",
       "      <td>1.215601e+09</td>\n",
       "    </tr>\n",
       "    <tr>\n",
       "      <th>std</th>\n",
       "      <td>4.679172e+04</td>\n",
       "      <td>3.919886e+04</td>\n",
       "      <td>1.060744e+00</td>\n",
       "      <td>2.268758e+08</td>\n",
       "    </tr>\n",
       "    <tr>\n",
       "      <th>min</th>\n",
       "      <td>1.000000e+00</td>\n",
       "      <td>1.000000e+00</td>\n",
       "      <td>5.000000e-01</td>\n",
       "      <td>7.896520e+08</td>\n",
       "    </tr>\n",
       "    <tr>\n",
       "      <th>25%</th>\n",
       "      <td>4.051000e+04</td>\n",
       "      <td>1.196000e+03</td>\n",
       "      <td>3.000000e+00</td>\n",
       "      <td>1.011747e+09</td>\n",
       "    </tr>\n",
       "    <tr>\n",
       "      <th>50%</th>\n",
       "      <td>8.091400e+04</td>\n",
       "      <td>2.947000e+03</td>\n",
       "      <td>3.500000e+00</td>\n",
       "      <td>1.198868e+09</td>\n",
       "    </tr>\n",
       "    <tr>\n",
       "      <th>75%</th>\n",
       "      <td>1.215570e+05</td>\n",
       "      <td>8.623000e+03</td>\n",
       "      <td>4.000000e+00</td>\n",
       "      <td>1.447205e+09</td>\n",
       "    </tr>\n",
       "    <tr>\n",
       "      <th>max</th>\n",
       "      <td>1.625410e+05</td>\n",
       "      <td>2.091710e+05</td>\n",
       "      <td>5.000000e+00</td>\n",
       "      <td>1.574328e+09</td>\n",
       "    </tr>\n",
       "  </tbody>\n",
       "</table>\n",
       "</div>"
      ],
      "text/plain": [
       "             userId       movieId        rating     timestamp\n",
       "count  2.500010e+07  2.500010e+07  2.500010e+07  2.500010e+07\n",
       "mean   8.118928e+04  2.138798e+04  3.533854e+00  1.215601e+09\n",
       "std    4.679172e+04  3.919886e+04  1.060744e+00  2.268758e+08\n",
       "min    1.000000e+00  1.000000e+00  5.000000e-01  7.896520e+08\n",
       "25%    4.051000e+04  1.196000e+03  3.000000e+00  1.011747e+09\n",
       "50%    8.091400e+04  2.947000e+03  3.500000e+00  1.198868e+09\n",
       "75%    1.215570e+05  8.623000e+03  4.000000e+00  1.447205e+09\n",
       "max    1.625410e+05  2.091710e+05  5.000000e+00  1.574328e+09"
      ]
     },
     "execution_count": 6,
     "metadata": {},
     "output_type": "execute_result"
    }
   ],
   "source": [
    "ratings.describe()"
   ]
  },
  {
   "attachments": {},
   "cell_type": "markdown",
   "metadata": {},
   "source": [
    "Combining the movie and rating data sets"
   ]
  },
  {
   "cell_type": "code",
   "execution_count": null,
   "metadata": {},
   "outputs": [],
   "source": [
    "df_combined = pd.merge(ratings, movies, on = 'movieId')\n"
   ]
  },
  {
   "cell_type": "code",
   "execution_count": null,
   "metadata": {},
   "outputs": [
    {
     "data": {
      "text/html": [
       "<div>\n",
       "<style scoped>\n",
       "    .dataframe tbody tr th:only-of-type {\n",
       "        vertical-align: middle;\n",
       "    }\n",
       "\n",
       "    .dataframe tbody tr th {\n",
       "        vertical-align: top;\n",
       "    }\n",
       "\n",
       "    .dataframe thead th {\n",
       "        text-align: right;\n",
       "    }\n",
       "</style>\n",
       "<table border=\"1\" class=\"dataframe\">\n",
       "  <thead>\n",
       "    <tr style=\"text-align: right;\">\n",
       "      <th></th>\n",
       "      <th>userId</th>\n",
       "      <th>movieId</th>\n",
       "      <th>rating</th>\n",
       "      <th>timestamp</th>\n",
       "      <th>title</th>\n",
       "      <th>genres</th>\n",
       "    </tr>\n",
       "  </thead>\n",
       "  <tbody>\n",
       "    <tr>\n",
       "      <th>0</th>\n",
       "      <td>1</td>\n",
       "      <td>296</td>\n",
       "      <td>5.0</td>\n",
       "      <td>1147880044</td>\n",
       "      <td>Pulp Fiction (1994)</td>\n",
       "      <td>Comedy|Crime|Drama|Thriller</td>\n",
       "    </tr>\n",
       "    <tr>\n",
       "      <th>1</th>\n",
       "      <td>3</td>\n",
       "      <td>296</td>\n",
       "      <td>5.0</td>\n",
       "      <td>1439474476</td>\n",
       "      <td>Pulp Fiction (1994)</td>\n",
       "      <td>Comedy|Crime|Drama|Thriller</td>\n",
       "    </tr>\n",
       "    <tr>\n",
       "      <th>2</th>\n",
       "      <td>4</td>\n",
       "      <td>296</td>\n",
       "      <td>4.0</td>\n",
       "      <td>1573938898</td>\n",
       "      <td>Pulp Fiction (1994)</td>\n",
       "      <td>Comedy|Crime|Drama|Thriller</td>\n",
       "    </tr>\n",
       "    <tr>\n",
       "      <th>3</th>\n",
       "      <td>5</td>\n",
       "      <td>296</td>\n",
       "      <td>4.0</td>\n",
       "      <td>830786155</td>\n",
       "      <td>Pulp Fiction (1994)</td>\n",
       "      <td>Comedy|Crime|Drama|Thriller</td>\n",
       "    </tr>\n",
       "    <tr>\n",
       "      <th>4</th>\n",
       "      <td>7</td>\n",
       "      <td>296</td>\n",
       "      <td>4.0</td>\n",
       "      <td>835444730</td>\n",
       "      <td>Pulp Fiction (1994)</td>\n",
       "      <td>Comedy|Crime|Drama|Thriller</td>\n",
       "    </tr>\n",
       "  </tbody>\n",
       "</table>\n",
       "</div>"
      ],
      "text/plain": [
       "   userId  movieId  rating   timestamp                title  \\\n",
       "0       1      296     5.0  1147880044  Pulp Fiction (1994)   \n",
       "1       3      296     5.0  1439474476  Pulp Fiction (1994)   \n",
       "2       4      296     4.0  1573938898  Pulp Fiction (1994)   \n",
       "3       5      296     4.0   830786155  Pulp Fiction (1994)   \n",
       "4       7      296     4.0   835444730  Pulp Fiction (1994)   \n",
       "\n",
       "                        genres  \n",
       "0  Comedy|Crime|Drama|Thriller  \n",
       "1  Comedy|Crime|Drama|Thriller  \n",
       "2  Comedy|Crime|Drama|Thriller  \n",
       "3  Comedy|Crime|Drama|Thriller  \n",
       "4  Comedy|Crime|Drama|Thriller  "
      ]
     },
     "execution_count": 8,
     "metadata": {},
     "output_type": "execute_result"
    }
   ],
   "source": [
    "df_combined.head()"
   ]
  },
  {
   "attachments": {},
   "cell_type": "markdown",
   "metadata": {},
   "source": [
    " Matrix Factorization using Deep Learning (Keras)"
   ]
  },
  {
   "cell_type": "code",
   "execution_count": null,
   "metadata": {},
   "outputs": [],
   "source": [
    "from keras.layers import Embedding, Input, dot, concatenate\n",
    "from keras.models import Model\n",
    "from IPython.display import SVG\n",
    "from keras.utils.vis_utils import model_to_dot"
   ]
  },
  {
   "cell_type": "code",
   "execution_count": null,
   "metadata": {},
   "outputs": [],
   "source": [
    "# Deep Learning Libraries\n",
    "from keras.models import Sequential, load_model\n",
    "from keras.layers import Dense, Dropout, Flatten\n",
    "from keras.layers import Conv2D, MaxPooling2D, BatchNormalization\n",
    "from keras.optimizers import Adam,SGD,Adagrad,Adadelta,RMSprop\n",
    "from keras.preprocessing.image import ImageDataGenerator\n",
    "from keras.callbacks import ReduceLROnPlateau, LearningRateScheduler\n",
    "from keras.utils import to_categorical"
   ]
  },
  {
   "cell_type": "code",
   "execution_count": null,
   "metadata": {},
   "outputs": [],
   "source": [
    "X = ratings.iloc[:,:2]\n",
    "Y = ratings.iloc[:,2]\n",
    "\n",
    "x_train, x_test, y_train, y_test = train_test_split(X, Y, test_size = 0.2, random_state = 66)"
   ]
  },
  {
   "cell_type": "code",
   "execution_count": null,
   "metadata": {},
   "outputs": [],
   "source": [
    "n_latent_factors = 50\n",
    "\n",
    "# no of users and movies\n",
    "n_users, n_movies = len(ratings['userId'].unique()), len(ratings['movieId'].unique()) "
   ]
  },
  {
   "cell_type": "code",
   "execution_count": null,
   "metadata": {},
   "outputs": [],
   "source": [
    "# Model Architecture\n",
    "\n",
    "\n",
    "# User Embeddings\n",
    "user_input = Input(shape=(1,), name='User_Input')\n",
    "user_embeddings = Embedding(input_dim = n_users, output_dim=n_latent_factors, input_length=1, \n",
    "                              name='User_Embedding') (user_input)\n",
    "user_vector = Flatten(name='User_Vector') (user_embeddings)\n",
    "\n",
    "\n",
    "# Movie Embeddings\n",
    "movie_input = Input(shape=(1,), name='Movie_Input')\n",
    "movie_embeddings = Embedding(input_dim = n_movies, output_dim=n_latent_factors, input_length=1, \n",
    "                               name='Movie_Embedding') (movie_input)\n",
    "movie_vector = Flatten(name='Movie_Vector') (movie_embeddings)\n",
    "\n",
    "\n",
    "# Dot Product\n",
    "merged_vectors = dot([user_vector, movie_vector], name='Dot_Product', axes=1)\n",
    "model = Model([user_input, movie_input], merged_vectors)"
   ]
  },
  {
   "cell_type": "code",
   "execution_count": null,
   "metadata": {},
   "outputs": [
    {
     "name": "stdout",
     "output_type": "stream",
     "text": [
      "Model: \"model\"\n",
      "__________________________________________________________________________________________________\n",
      " Layer (type)                   Output Shape         Param #     Connected to                     \n",
      "==================================================================================================\n",
      " User_Input (InputLayer)        [(None, 1)]          0           []                               \n",
      "                                                                                                  \n",
      " Movie_Input (InputLayer)       [(None, 1)]          0           []                               \n",
      "                                                                                                  \n",
      " User_Embedding (Embedding)     (None, 1, 50)        8127050     ['User_Input[0][0]']             \n",
      "                                                                                                  \n",
      " Movie_Embedding (Embedding)    (None, 1, 50)        2952350     ['Movie_Input[0][0]']            \n",
      "                                                                                                  \n",
      " User_Vector (Flatten)          (None, 50)           0           ['User_Embedding[0][0]']         \n",
      "                                                                                                  \n",
      " Movie_Vector (Flatten)         (None, 50)           0           ['Movie_Embedding[0][0]']        \n",
      "                                                                                                  \n",
      " Dot_Product (Dot)              (None, 1)            0           ['User_Vector[0][0]',            \n",
      "                                                                  'Movie_Vector[0][0]']           \n",
      "                                                                                                  \n",
      "==================================================================================================\n",
      "Total params: 11,079,400\n",
      "Trainable params: 11,079,400\n",
      "Non-trainable params: 0\n",
      "__________________________________________________________________________________________________\n"
     ]
    }
   ],
   "source": [
    "model.summary()\n"
   ]
  },
  {
   "cell_type": "code",
   "execution_count": null,
   "metadata": {},
   "outputs": [
    {
     "name": "stderr",
     "output_type": "stream",
     "text": [
      "c:\\Users\\dk958\\AppData\\Local\\Programs\\Python\\Python39\\lib\\site-packages\\keras\\optimizers\\optimizer_v2\\adam.py:117: UserWarning: The `lr` argument is deprecated, use `learning_rate` instead.\n",
      "  super().__init__(name, **kwargs)\n"
     ]
    }
   ],
   "source": [
    "import keras.backend as K\n",
    "import keras\n",
    "optimizer = Adam(lr = 0.0005)\n",
    "\n",
    "model.compile(loss='mean_squared_error', optimizer = optimizer, metrics = ['accuracy'])"
   ]
  },
  {
   "cell_type": "code",
   "execution_count": null,
   "metadata": {},
   "outputs": [],
   "source": [
    "batch_size = 128\n",
    "epochs = 20"
   ]
  },
  {
   "cell_type": "code",
   "execution_count": null,
   "metadata": {},
   "outputs": [],
   "source": [
    "keras.layers.Embedding(15000, 16)\n",
    "history = model.fit(x=[x_train['userId'], x_train['movieId']], y=y_train, batch_size= batch_size, epochs=epochs, \n",
    "                    verbose= 2, validation_data=([x_test['userId'], x_test['movieId']], y_test))"
   ]
  },
  {
   "attachments": {},
   "cell_type": "markdown",
   "metadata": {},
   "source": [
    "Train on 80668 samples, validate on 20168 samples\n",
    "Epoch 1/20\n",
    " - 6s - loss: 13.3356 - acc: 0.0000e+00 - val_loss: 12.9812 - val_acc: 0.0000e+00\n",
    "Epoch 2/20\n",
    " - 3s - loss: 11.0575 - acc: 0.0080 - val_loss: 8.0642 - val_acc: 0.0314\n",
    "Epoch 3/20\n",
    " - 2s - loss: 6.2983 - acc: 0.0826 - val_loss: 5.2491 - val_acc: 0.1221\n",
    "Epoch 4/20\n",
    " - 2s - loss: 4.7860 - acc: 0.1524 - val_loss: 4.5375 - val_acc: 0.1723\n",
    "Epoch 5/20\n",
    " - 2s - loss: 4.2771 - acc: 0.1938 - val_loss: 4.2153 - val_acc: 0.2019\n",
    "Epoch 6/20\n",
    " - 3s - loss: 4.0258 - acc: 0.2206 - val_loss: 4.0425 - val_acc: 0.2203\n",
    "Epoch 7/20\n",
    " - 2s - loss: 3.8829 - acc: 0.2364 - val_loss: 3.9427 - val_acc: 0.2309\n",
    "Epoch 8/20\n",
    " - 2s - loss: 3.7942 - acc: 0.2473 - val_loss: 3.8821 - val_acc: 0.2397\n",
    "Epoch 9/20\n",
    " - 2s - loss: 3.7352 - acc: 0.2558 - val_loss: 3.8423 - val_acc: 0.2452\n",
    "Epoch 10/20\n",
    " - 3s - loss: 3.6939 - acc: 0.2617 - val_loss: 3.8170 - val_acc: 0.2470\n",
    "Epoch 11/20\n",
    " - 2s - loss: 3.6625 - acc: 0.2656 - val_loss: 3.7981 - val_acc: 0.2509\n",
    "Epoch 12/20\n",
    " - 2s - loss: 3.6375 - acc: 0.2709 - val_loss: 3.7846 - val_acc: 0.2503\n",
    "Epoch 13/20\n",
    " - 2s - loss: 3.6163 - acc: 0.2765 - val_loss: 3.7770 - val_acc: 0.2527\n",
    "Epoch 14/20\n",
    " - 2s - loss: 3.5982 - acc: 0.2810 - val_loss: 3.7711 - val_acc: 0.2520\n",
    "Epoch 15/20\n",
    " - 3s - loss: 3.5812 - acc: 0.2856 - val_loss: 3.7659 - val_acc: 0.2538\n",
    "Epoch 16/20\n",
    " - 2s - loss: 3.5653 - acc: 0.2922 - val_loss: 3.7629 - val_acc: 0.2540\n",
    "Epoch 17/20\n",
    " - 2s - loss: 3.5503 - acc: 0.2965 - val_loss: 3.7613 - val_acc: 0.2548\n",
    "Epoch 18/20\n",
    " - 2s - loss: 3.5352 - acc: 0.3023 - val_loss: 3.7603 - val_acc: 0.2536\n",
    "Epoch 19/20\n",
    " - 2s - loss: 3.5209 - acc: 0.3086 - val_loss: 3.7598 - val_acc: 0.2547"
   ]
  },
  {
   "cell_type": "code",
   "execution_count": null,
   "metadata": {},
   "outputs": [],
   "source": [
    "# Get training and test loss histories\n",
    "training_loss = history.history['loss']\n",
    "test_loss = history.history['val_loss']\n",
    "\n",
    "# Create count of the number of epochs\n",
    "epoch_count = range(1, len(training_loss) + 1)\n",
    "\n",
    "# Visualize loss history\n",
    "plt.figure(figsize = (8,4))\n",
    "plt.plot(epoch_count, training_loss, 'r--')\n",
    "plt.plot(epoch_count, test_loss, 'b-')\n",
    "plt.legend(['Training Loss', 'Test Loss'])\n",
    "plt.xlabel('Epoch')\n",
    "plt.ylabel('Loss')\n",
    "plt.show()"
   ]
  },
  {
   "cell_type": "code",
   "execution_count": null,
   "metadata": {},
   "outputs": [],
   "source": [
    "score = model.evaluate([x_test['userId'], x_test['movieId']], y_test)\n",
    "\n",
    "print('RMSE: {:.4f}'.format(np.sqrt(score[0])))\n",
    "print('Accuracy of Model: ',score[1] )"
   ]
  },
  {
   "cell_type": "code",
   "execution_count": null,
   "metadata": {},
   "outputs": [],
   "source": [
    "df_comb = df_combined['movieId'].to_numpy()\n",
    "df_movie_id = np.unique(df_comb)\n",
    "\n",
    "input_user_id = 200\n",
    "prediction_arr = []\n",
    "\n",
    "pred_movie_frame = []\n",
    "\n",
    "movie_id_arr = []\n",
    "\n",
    "\n",
    "for i in range(len(df_movie_id)):\n",
    "    input_movie_id = df_movie_id[i]\n",
    "    data = {'userId':[input_user_id],'movieId':[input_movie_id]}\n",
    "    input_user_data = pd.DataFrame(data)\n",
    "    prediction = model.predict([input_user_data['userId'], input_user_data['movieId']])\n",
    "    pred_df = pd.DataFrame(prediction[0],columns = ['prediction'])\n",
    "    pred_val = prediction[0].astype(float)\n",
    "    input_movie_id_df = pd.DataFrame([input_movie_id],columns = ['movieId'])\n",
    "    \n",
    "    \n",
    "    pred_movie_data = pd.DataFrame([[input_movie_id,pred_val[0]]],\n",
    "                   columns=['movieId', 'prediction'])\n",
    "    \n",
    "    pred_movie_frame.append(pred_movie_data)\n",
    "\n",
    "\n",
    "final_pred_movie_frame = pd.concat(pred_movie_frame,axis =0,ignore_index=True)\n",
    "print(final_pred_movie_frame)"
   ]
  },
  {
   "cell_type": "code",
   "execution_count": null,
   "metadata": {},
   "outputs": [],
   "source": [
    "max_rating_index = (final_pred_movie_frame['prediction']==final_pred_movie_frame.max()['prediction'])\n",
    "max_rating_index = max_rating_index.astype(int).to_numpy()\n",
    "\n",
    "\n",
    "for i in range(len(max_rating_index)):\n",
    "    if(max_rating_index[i]==1):\n",
    "        predicted_movieid = final_pred_movie_frame['movieId'][i]\n",
    "\n",
    "\n",
    "\n",
    "df_comb_id = df_combined['movieId'].astype(int).to_numpy()\n",
    "\n",
    "\n",
    "for i in range(len(df_combined)):\n",
    "    if(df_comb_id[i]==predicted_movieid):\n",
    "        predicted_movie_name = df_combined['title'][i]\n",
    "        \n",
    "        \n",
    "print(predicted_movie_name)\n",
    "print(final_pred_movie_frame.max()['prediction'])"
   ]
  }
 ],
 "metadata": {
  "kernelspec": {
   "display_name": "Python 3",
   "language": "python",
   "name": "python3"
  },
  "language_info": {
   "codemirror_mode": {
    "name": "ipython",
    "version": 3
   },
   "file_extension": ".py",
   "mimetype": "text/x-python",
   "name": "python",
   "nbconvert_exporter": "python",
   "pygments_lexer": "ipython3",
   "version": "3.9.9 (tags/v3.9.9:ccb0e6a, Nov 15 2021, 18:08:50) [MSC v.1929 64 bit (AMD64)]"
  },
  "orig_nbformat": 4,
  "vscode": {
   "interpreter": {
    "hash": "8c6661e15ee334f4d92062df0178622af24b6d37b033b88d8c66f84fe5761a12"
   }
  }
 },
 "nbformat": 4,
 "nbformat_minor": 2
}
